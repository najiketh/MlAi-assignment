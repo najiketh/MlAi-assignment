{
 "cells": [
  {
   "cell_type": "code",
   "execution_count": 1,
   "id": "97562855",
   "metadata": {},
   "outputs": [
    {
     "name": "stdout",
     "output_type": "stream",
     "text": [
      "Enter a no:4\n",
      "Enter a no:6\n"
     ]
    },
    {
     "ename": "NameError",
     "evalue": "name 'add' is not defined",
     "output_type": "error",
     "traceback": [
      "\u001b[1;31m---------------------------------------------------------------------------\u001b[0m",
      "\u001b[1;31mNameError\u001b[0m                                 Traceback (most recent call last)",
      "Cell \u001b[1;32mIn[1], line 3\u001b[0m\n\u001b[0;32m      1\u001b[0m a\u001b[38;5;241m=\u001b[39m\u001b[38;5;28mint\u001b[39m(\u001b[38;5;28minput\u001b[39m(\u001b[38;5;124m'\u001b[39m\u001b[38;5;124mEnter a no:\u001b[39m\u001b[38;5;124m'\u001b[39m))\n\u001b[0;32m      2\u001b[0m b\u001b[38;5;241m=\u001b[39m\u001b[38;5;28mint\u001b[39m(\u001b[38;5;28minput\u001b[39m(\u001b[38;5;124m'\u001b[39m\u001b[38;5;124mEnter a no:\u001b[39m\u001b[38;5;124m'\u001b[39m))\n\u001b[1;32m----> 3\u001b[0m \u001b[38;5;28mprint\u001b[39m(\u001b[38;5;124m'\u001b[39m\u001b[38;5;124msum is\u001b[39m\u001b[38;5;124m'\u001b[39m,add(a,b))\n",
      "\u001b[1;31mNameError\u001b[0m: name 'add' is not defined"
     ]
    }
   ],
   "source": [
    "a=int(input('Enter a no:'))\n",
    "b=int(input('Enter a no:'))\n",
    "print('sum is',add(a,b))"
   ]
  },
  {
   "cell_type": "code",
   "execution_count": null,
   "id": "a0156e5d",
   "metadata": {},
   "outputs": [],
   "source": [
    "def add(a,b):\n",
    "    s = a+b\n",
    "    return s"
   ]
  },
  {
   "cell_type": "code",
   "execution_count": null,
   "id": "da1f2a8b",
   "metadata": {},
   "outputs": [],
   "source": []
  },
  {
   "cell_type": "code",
   "execution_count": null,
   "id": "9f75354f",
   "metadata": {},
   "outputs": [],
   "source": [
    "add(3,2)"
   ]
  },
  {
   "cell_type": "code",
   "execution_count": null,
   "id": "c2b4c6cc",
   "metadata": {},
   "outputs": [],
   "source": [
    "a=int(input('Enter a no:'))\n",
    "b=int(input('Enter a no:'))\n",
    "addition(a,b)"
   ]
  },
  {
   "cell_type": "code",
   "execution_count": null,
   "id": "851a9599",
   "metadata": {},
   "outputs": [],
   "source": []
  },
  {
   "cell_type": "code",
   "execution_count": null,
   "id": "04236b1e",
   "metadata": {},
   "outputs": [],
   "source": [
    "def largest(a,b,c):\n",
    "    if a>b and b>c:\n",
    "        return(a)\n",
    "    elif b>a and b>c:\n",
    "        return(b)\n",
    "    else:\n",
    "        return(c)"
   ]
  },
  {
   "cell_type": "code",
   "execution_count": null,
   "id": "93ed176b",
   "metadata": {},
   "outputs": [],
   "source": [
    "a=int(input('enter a no:'))\n",
    "b=int(input('enter a no:'))\n",
    "c=int(input('enter a no:'))\n",
    "print('largest=',largest(a,b,c))"
   ]
  },
  {
   "cell_type": "code",
   "execution_count": null,
   "id": "7880ec6a",
   "metadata": {},
   "outputs": [],
   "source": [
    "#QUESTIONS"
   ]
  },
  {
   "cell_type": "code",
   "execution_count": null,
   "id": "377e779c",
   "metadata": {},
   "outputs": [],
   "source": [
    "scores=['81','72','53','66','87','58']\n",
    "sc_set=set(scores)\n",
    "top=max(sc_set)\n",
    "sc_set.remove(top)\n",
    "print(max(sc_set))"
   ]
  },
  {
   "cell_type": "raw",
   "id": "c19f21e4",
   "metadata": {},
   "source": []
  },
  {
   "cell_type": "raw",
   "id": "138ed61a",
   "metadata": {},
   "source": []
  },
  {
   "cell_type": "code",
   "execution_count": null,
   "id": "071a1e3c",
   "metadata": {},
   "outputs": [],
   "source": [
    "s1={5,6,7,8,9,2}\n",
    "s2={2,4,25,8}\n",
    "if s1.intersection(s2):\n",
    "    print(s1&s2)\n",
    "else:\n",
    "    print(s1.union(s2))"
   ]
  },
  {
   "cell_type": "code",
   "execution_count": 3,
   "id": "6c7cf05d",
   "metadata": {},
   "outputs": [
    {
     "name": "stdout",
     "output_type": "stream",
     "text": [
      "Enter the name to be updatedJohn\n",
      "{'John': [88, 77, 99], 'Peter': [87, 55, 96], 'Ram': [58, 55, 43], 'Meena': [63, 79, 85]}\n"
     ]
    }
   ],
   "source": [
    "D={'John':[25,32,43],'Peter':[87,55,96],'Ram':[58,55,43],'Meena':[63,79,85]}\n",
    "n=input('Enter the name to be updated')\n",
    "if n in D:\n",
    "    D[n]=[88,77,99]\n",
    "    print(D)\n",
    "else:\n",
    "      print('Name not found')\n",
    "              \n"
   ]
  },
  {
   "cell_type": "markdown",
   "id": "5de316d6",
   "metadata": {},
   "source": [
    "##### "
   ]
  },
  {
   "cell_type": "code",
   "execution_count": 6,
   "id": "7650d23f",
   "metadata": {},
   "outputs": [],
   "source": [
    "a=\"Nirmala\""
   ]
  },
  {
   "cell_type": "code",
   "execution_count": 7,
   "id": "20d1cf3d",
   "metadata": {},
   "outputs": [
    {
     "data": {
      "text/plain": [
       "'Nraa'"
      ]
     },
     "execution_count": 7,
     "metadata": {},
     "output_type": "execute_result"
    }
   ],
   "source": [
    "a[::2]"
   ]
  },
  {
   "cell_type": "code",
   "execution_count": 9,
   "id": "6adca6e5",
   "metadata": {},
   "outputs": [
    {
     "name": "stdout",
     "output_type": "stream",
     "text": [
      "Enter= 28\n",
      "youngest= 18\n"
     ]
    }
   ],
   "source": [
    "age=[18,21,28]\n",
    "print('Enter=',max(age))\n",
    "print('youngest=',min(age))"
   ]
  },
  {
   "cell_type": "code",
   "execution_count": null,
   "id": "ea67e697",
   "metadata": {},
   "outputs": [],
   "source": []
  },
  {
   "cell_type": "code",
   "execution_count": null,
   "id": "e63af4f8",
   "metadata": {},
   "outputs": [],
   "source": []
  }
 ],
 "metadata": {
  "kernelspec": {
   "display_name": "Python 3 (ipykernel)",
   "language": "python",
   "name": "python3"
  },
  "language_info": {
   "codemirror_mode": {
    "name": "ipython",
    "version": 3
   },
   "file_extension": ".py",
   "mimetype": "text/x-python",
   "name": "python",
   "nbconvert_exporter": "python",
   "pygments_lexer": "ipython3",
   "version": "3.11.5"
  }
 },
 "nbformat": 4,
 "nbformat_minor": 5
}
